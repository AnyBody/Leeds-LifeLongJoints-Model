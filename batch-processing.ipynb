{
 "cells": [
  {
   "cell_type": "markdown",
   "metadata": {},
   "source": [
    "# Leeds Hip Loads model"
   ]
  },
  {
   "cell_type": "markdown",
   "metadata": {},
   "source": [
    "This notebook shows how to run a very simple batch processing on the LeedsHipLoads model.\n",
    "\n",
    "Please ensure you have installed the [AnyPyTools library](https://anybody-research-group.github.io/anypytools-docs/). See the [install instructions](https://anybody-research-group.github.io/anypytools-docs/install_guide.html)."
   ]
  },
  {
   "cell_type": "code",
   "execution_count": null,
   "metadata": {},
   "outputs": [],
   "source": [
    "from anypytools import AnyPyProcess, macro_commands as mc"
   ]
  },
  {
   "cell_type": "markdown",
   "metadata": {},
   "source": [
    "## Run standing reference trials"
   ]
  },
  {
   "cell_type": "code",
   "execution_count": null,
   "metadata": {},
   "outputs": [],
   "source": [
    "app1 = AnyPyProcess(num_processes=2, return_task_info=True)\n",
    "\n",
    "macro = [\n",
    "    mc.Load('main.any'),\n",
    "    mc.OperationRun('Main.RunParameterIdentification')\n",
    "]"
   ]
  },
  {
   "cell_type": "code",
   "execution_count": null,
   "metadata": {},
   "outputs": [],
   "source": [
    "results = app1.start_macro(macro, search_subdirs='(static).*main.any')"
   ]
  },
  {
   "cell_type": "markdown",
   "metadata": {},
   "source": [
    "## Run all dynamics trials"
   ]
  },
  {
   "cell_type": "code",
   "execution_count": null,
   "metadata": {},
   "outputs": [],
   "source": [
    "app2 = AnyPyProcess(num_processes=2, return_task_info=True)\n",
    "\n",
    "macro = [\n",
    "    mc.Load('main.any'),\n",
    "    mc.OperationRun('Main.RunAnalysis.LoadParameters'),\n",
    "    mc.OperationRun('Main.RunAnalysis.MarkerTracking'),\n",
    "    mc.OperationRun('Main.RunAnalysis.InverseDynamics'),\n",
    "    mc.Dump('Main.Studies.InverseDynamicStudy.Output.BodyModel.SelectedOutput.Right.Leg.JointReactionForce.Hip_ProximoDistalForce')\n",
    "]"
   ]
  },
  {
   "cell_type": "code",
   "execution_count": null,
   "metadata": {},
   "outputs": [],
   "source": [
    "trials = [\n",
    "    'walk',\n",
    "    'fast',\n",
    "    'ascent',\n",
    "    'descent',\n",
    "    'jog', \n",
    "    'lunge',\n",
    "    'squat',\n",
    "    'sts',\n",
    "]\n",
    "results = app2.start_macro(macro, search_subdirs=f\"({'|'.join(trials)}).*main.any\")"
   ]
  },
  {
   "cell_type": "code",
   "execution_count": null,
   "metadata": {},
   "outputs": [],
   "source": []
  }
 ],
 "metadata": {
  "kernelspec": {
   "display_name": "Python 3",
   "language": "python",
   "name": "python3"
  },
  "language_info": {
   "codemirror_mode": {
    "name": "ipython",
    "version": 3
   },
   "file_extension": ".py",
   "mimetype": "text/x-python",
   "name": "python",
   "nbconvert_exporter": "python",
   "pygments_lexer": "ipython3",
   "version": "3.6.3"
  }
 },
 "nbformat": 4,
 "nbformat_minor": 2
}
